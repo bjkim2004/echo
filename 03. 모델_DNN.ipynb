{
 "cells": [
  {
   "cell_type": "code",
   "execution_count": 16,
   "id": "95caea6f-be22-49a1-8fef-ff3319f1bcdd",
   "metadata": {},
   "outputs": [],
   "source": [
    "import pandas as pd\n",
    "from sklearn.preprocessing import MinMaxScaler\n",
    "from sklearn.model_selection import train_test_split\n",
    "import tensorflow as tf\n",
    "tf.random.set_seed(777) #하이퍼파라미터 튜닝을 위해 실행시 마다 변수가 같은 초기값 가지게 하기\n",
    "import numpy as np\n",
    "#matplotlib 패키지 한글 깨짐 처리 시작\n",
    "import matplotlib.pyplot as plt\n",
    "import platform"
   ]
  },
  {
   "cell_type": "code",
   "execution_count": 17,
   "id": "912c9409-06d1-4762-9a21-2838ce236a1e",
   "metadata": {},
   "outputs": [],
   "source": [
    "if platform.system() == 'Darwin': #맥\n",
    "        plt.rc('font', family='AppleGothic') \n",
    "elif platform.system() == 'Windows': #윈도우\n",
    "        plt.rc('font', family='Malgun Gothic') \n",
    "elif platform.system() == 'Linux': #리눅스 (구글 콜랩)\n",
    "        #!wget \"https://www.wfonts.com/download/data/2016/06/13/malgun-gothic/malgun.ttf\"\n",
    "        #!mv malgun.ttf /usr/share/fonts/truetype/\n",
    "        #import matplotlib.font_manager as fm \n",
    "        #fm._rebuild() \n",
    "        plt.rc('font', family='Malgun Gothic') \n",
    "plt.rcParams['axes.unicode_minus'] = False #한글 폰트 사용시 마이너스 폰트 깨짐 해결\n",
    "\n",
    "%matplotlib inline"
   ]
  },
  {
   "cell_type": "code",
   "execution_count": 18,
   "id": "2bcd0238-82a0-4545-8812-7a062212e9aa",
   "metadata": {},
   "outputs": [],
   "source": [
    "def load_time_series_data(data, sequence_length):\n",
    "    print(data.shape)\n",
    "    print(sequence_length)\n",
    "    window_length = sequence_length + 1\n",
    "    x_data = []\n",
    "    y_data = []\n",
    "    for i in range(0, len(data) - window_length + 1): #0 1 2 3 4 5 6 7 8 9 | 10\n",
    "        window = data[i:i + window_length, :]\n",
    "        x_data.append(window[:-1, :])\n",
    "        y_data.append(window[-1, [-1]])\n",
    "    x_data = np.array(x_data)\n",
    "    y_data = np.array(y_data)\n",
    "    print(x_data.shape)\n",
    "    print(y_data.shape)\n",
    "\n",
    "    return x_data, y_data"
   ]
  },
  {
   "cell_type": "code",
   "execution_count": 19,
   "id": "61064ef0-eb8d-436b-abb4-4260e9292387",
   "metadata": {},
   "outputs": [
    {
     "data": {
      "text/html": [
       "<div>\n",
       "<style scoped>\n",
       "    .dataframe tbody tr th:only-of-type {\n",
       "        vertical-align: middle;\n",
       "    }\n",
       "\n",
       "    .dataframe tbody tr th {\n",
       "        vertical-align: top;\n",
       "    }\n",
       "\n",
       "    .dataframe thead th {\n",
       "        text-align: right;\n",
       "    }\n",
       "</style>\n",
       "<table border=\"1\" class=\"dataframe\">\n",
       "  <thead>\n",
       "    <tr style=\"text-align: right;\">\n",
       "      <th></th>\n",
       "      <th>일시</th>\n",
       "      <th>측정소명</th>\n",
       "      <th>풍향</th>\n",
       "      <th>풍속</th>\n",
       "      <th>온도</th>\n",
       "      <th>습도</th>\n",
       "      <th>강수량</th>\n",
       "      <th>PM</th>\n",
       "    </tr>\n",
       "  </thead>\n",
       "  <tbody>\n",
       "    <tr>\n",
       "      <th>1</th>\n",
       "      <td>2021-01-01 01:00:00</td>\n",
       "      <td>강남</td>\n",
       "      <td>327.0</td>\n",
       "      <td>1.3</td>\n",
       "      <td>-7.0</td>\n",
       "      <td>55.0</td>\n",
       "      <td>0.0</td>\n",
       "      <td>13.0</td>\n",
       "    </tr>\n",
       "    <tr>\n",
       "      <th>2</th>\n",
       "      <td>2021-01-01 02:00:00</td>\n",
       "      <td>강남</td>\n",
       "      <td>309.0</td>\n",
       "      <td>1.1</td>\n",
       "      <td>-6.8</td>\n",
       "      <td>55.0</td>\n",
       "      <td>0.0</td>\n",
       "      <td>13.0</td>\n",
       "    </tr>\n",
       "    <tr>\n",
       "      <th>3</th>\n",
       "      <td>2021-01-01 03:00:00</td>\n",
       "      <td>강남</td>\n",
       "      <td>45.0</td>\n",
       "      <td>0.9</td>\n",
       "      <td>-7.0</td>\n",
       "      <td>57.0</td>\n",
       "      <td>0.0</td>\n",
       "      <td>12.0</td>\n",
       "    </tr>\n",
       "    <tr>\n",
       "      <th>4</th>\n",
       "      <td>2021-01-01 04:00:00</td>\n",
       "      <td>강남</td>\n",
       "      <td>304.0</td>\n",
       "      <td>0.6</td>\n",
       "      <td>-7.5</td>\n",
       "      <td>57.0</td>\n",
       "      <td>0.0</td>\n",
       "      <td>13.0</td>\n",
       "    </tr>\n",
       "    <tr>\n",
       "      <th>5</th>\n",
       "      <td>2021-01-01 05:00:00</td>\n",
       "      <td>강남</td>\n",
       "      <td>82.0</td>\n",
       "      <td>0.8</td>\n",
       "      <td>-7.7</td>\n",
       "      <td>60.0</td>\n",
       "      <td>0.0</td>\n",
       "      <td>14.0</td>\n",
       "    </tr>\n",
       "  </tbody>\n",
       "</table>\n",
       "</div>"
      ],
      "text/plain": [
       "                    일시 측정소명     풍향   풍속   온도    습도  강수량    PM\n",
       "1  2021-01-01 01:00:00   강남  327.0  1.3 -7.0  55.0  0.0  13.0\n",
       "2  2021-01-01 02:00:00   강남  309.0  1.1 -6.8  55.0  0.0  13.0\n",
       "3  2021-01-01 03:00:00   강남   45.0  0.9 -7.0  57.0  0.0  12.0\n",
       "4  2021-01-01 04:00:00   강남  304.0  0.6 -7.5  57.0  0.0  13.0\n",
       "5  2021-01-01 05:00:00   강남   82.0  0.8 -7.7  60.0  0.0  14.0"
      ]
     },
     "execution_count": 19,
     "metadata": {},
     "output_type": "execute_result"
    }
   ],
   "source": [
    "df = pd.read_pickle('./data/total_df.pkl')\n",
    "df.head()"
   ]
  },
  {
   "cell_type": "code",
   "execution_count": 20,
   "id": "36dc1b18-abf8-480f-8af0-72090398d837",
   "metadata": {},
   "outputs": [
    {
     "name": "stdout",
     "output_type": "stream",
     "text": [
      "<class 'pandas.core.frame.DataFrame'>\n",
      "Int64Index: 529471 entries, 1 to 529583\n",
      "Data columns (total 8 columns):\n",
      " #   Column  Non-Null Count   Dtype  \n",
      "---  ------  --------------   -----  \n",
      " 0   일시      529471 non-null  object \n",
      " 1   측정소명    529471 non-null  object \n",
      " 2   풍향      529471 non-null  float64\n",
      " 3   풍속      529471 non-null  float64\n",
      " 4   온도      529471 non-null  float64\n",
      " 5   습도      529471 non-null  float64\n",
      " 6   강수량     529471 non-null  float64\n",
      " 7   PM      529471 non-null  float64\n",
      "dtypes: float64(6), object(2)\n",
      "memory usage: 36.4+ MB\n"
     ]
    }
   ],
   "source": [
    "df.info()"
   ]
  },
  {
   "cell_type": "code",
   "execution_count": 21,
   "id": "39d3aa63-68f5-4630-a61c-17a628605967",
   "metadata": {},
   "outputs": [
    {
     "data": {
      "text/html": [
       "<div>\n",
       "<style scoped>\n",
       "    .dataframe tbody tr th:only-of-type {\n",
       "        vertical-align: middle;\n",
       "    }\n",
       "\n",
       "    .dataframe tbody tr th {\n",
       "        vertical-align: top;\n",
       "    }\n",
       "\n",
       "    .dataframe thead th {\n",
       "        text-align: right;\n",
       "    }\n",
       "</style>\n",
       "<table border=\"1\" class=\"dataframe\">\n",
       "  <thead>\n",
       "    <tr style=\"text-align: right;\">\n",
       "      <th></th>\n",
       "      <th>풍향</th>\n",
       "      <th>풍속</th>\n",
       "      <th>온도</th>\n",
       "      <th>습도</th>\n",
       "      <th>강수량</th>\n",
       "      <th>PM</th>\n",
       "    </tr>\n",
       "  </thead>\n",
       "  <tbody>\n",
       "    <tr>\n",
       "      <th>count</th>\n",
       "      <td>529471.000000</td>\n",
       "      <td>529471.000000</td>\n",
       "      <td>529471.000000</td>\n",
       "      <td>529471.000000</td>\n",
       "      <td>529471.000000</td>\n",
       "      <td>529471.000000</td>\n",
       "    </tr>\n",
       "    <tr>\n",
       "      <th>mean</th>\n",
       "      <td>177.875201</td>\n",
       "      <td>1.385832</td>\n",
       "      <td>14.534760</td>\n",
       "      <td>59.420580</td>\n",
       "      <td>0.173498</td>\n",
       "      <td>19.301530</td>\n",
       "    </tr>\n",
       "    <tr>\n",
       "      <th>std</th>\n",
       "      <td>103.656219</td>\n",
       "      <td>0.745729</td>\n",
       "      <td>10.949943</td>\n",
       "      <td>20.781416</td>\n",
       "      <td>1.336110</td>\n",
       "      <td>15.785482</td>\n",
       "    </tr>\n",
       "    <tr>\n",
       "      <th>min</th>\n",
       "      <td>0.000000</td>\n",
       "      <td>0.000000</td>\n",
       "      <td>-32.900000</td>\n",
       "      <td>0.000000</td>\n",
       "      <td>0.000000</td>\n",
       "      <td>1.000000</td>\n",
       "    </tr>\n",
       "    <tr>\n",
       "      <th>25%</th>\n",
       "      <td>91.000000</td>\n",
       "      <td>0.873030</td>\n",
       "      <td>6.200000</td>\n",
       "      <td>44.000000</td>\n",
       "      <td>0.000000</td>\n",
       "      <td>9.000000</td>\n",
       "    </tr>\n",
       "    <tr>\n",
       "      <th>50%</th>\n",
       "      <td>173.000000</td>\n",
       "      <td>1.300000</td>\n",
       "      <td>16.000000</td>\n",
       "      <td>59.000000</td>\n",
       "      <td>0.000000</td>\n",
       "      <td>15.000000</td>\n",
       "    </tr>\n",
       "    <tr>\n",
       "      <th>75%</th>\n",
       "      <td>268.000000</td>\n",
       "      <td>1.800000</td>\n",
       "      <td>23.700000</td>\n",
       "      <td>76.000000</td>\n",
       "      <td>0.000000</td>\n",
       "      <td>25.000000</td>\n",
       "    </tr>\n",
       "    <tr>\n",
       "      <th>max</th>\n",
       "      <td>360.000000</td>\n",
       "      <td>8.100000</td>\n",
       "      <td>38.300000</td>\n",
       "      <td>100.000000</td>\n",
       "      <td>92.500000</td>\n",
       "      <td>237.000000</td>\n",
       "    </tr>\n",
       "  </tbody>\n",
       "</table>\n",
       "</div>"
      ],
      "text/plain": [
       "                  풍향             풍속             온도             습도  \\\n",
       "count  529471.000000  529471.000000  529471.000000  529471.000000   \n",
       "mean      177.875201       1.385832      14.534760      59.420580   \n",
       "std       103.656219       0.745729      10.949943      20.781416   \n",
       "min         0.000000       0.000000     -32.900000       0.000000   \n",
       "25%        91.000000       0.873030       6.200000      44.000000   \n",
       "50%       173.000000       1.300000      16.000000      59.000000   \n",
       "75%       268.000000       1.800000      23.700000      76.000000   \n",
       "max       360.000000       8.100000      38.300000     100.000000   \n",
       "\n",
       "                 강수량             PM  \n",
       "count  529471.000000  529471.000000  \n",
       "mean        0.173498      19.301530  \n",
       "std         1.336110      15.785482  \n",
       "min         0.000000       1.000000  \n",
       "25%         0.000000       9.000000  \n",
       "50%         0.000000      15.000000  \n",
       "75%         0.000000      25.000000  \n",
       "max        92.500000     237.000000  "
      ]
     },
     "execution_count": 21,
     "metadata": {},
     "output_type": "execute_result"
    }
   ],
   "source": [
    "df.describe()"
   ]
  },
  {
   "cell_type": "code",
   "execution_count": 22,
   "id": "be87acb0-6a8b-4709-a354-db89f247c5fa",
   "metadata": {},
   "outputs": [
    {
     "name": "stdout",
     "output_type": "stream",
     "text": [
      "(24071, 1)\n"
     ]
    }
   ],
   "source": [
    "##########데이터 전처리\n",
    "\n",
    "df = df[df['측정소명'] == '강남']\n",
    "\n",
    "\n",
    "data = df[['PM']].to_numpy()\n",
    "print(data.shape) #((720, 1)"
   ]
  },
  {
   "cell_type": "code",
   "execution_count": 23,
   "id": "f8f6789e-0fe7-4e6b-bbcf-297b29ce386d",
   "metadata": {},
   "outputs": [
    {
     "data": {
      "text/plain": [
       "array([[0.08695652],\n",
       "       [0.08695652],\n",
       "       [0.07971014],\n",
       "       ...,\n",
       "       [0.15942029],\n",
       "       [0.14492754],\n",
       "       [0.0942029 ]])"
      ]
     },
     "execution_count": 23,
     "metadata": {},
     "output_type": "execute_result"
    }
   ],
   "source": [
    "scaler = MinMaxScaler()\n",
    "data = scaler.fit_transform(data)\n",
    "data"
   ]
  },
  {
   "cell_type": "code",
   "execution_count": 24,
   "id": "3b318736-bf96-48c0-a8a7-376ce517faf2",
   "metadata": {},
   "outputs": [
    {
     "name": "stdout",
     "output_type": "stream",
     "text": [
      "(24071, 1)\n",
      "7\n",
      "(24064, 7, 1)\n",
      "(24064, 1)\n"
     ]
    },
    {
     "data": {
      "text/plain": [
       "((24064, 7), (24064, 1))"
      ]
     },
     "execution_count": 24,
     "metadata": {},
     "output_type": "execute_result"
    }
   ],
   "source": [
    "sequence_length = 3\n",
    "x_data, y_data = load_time_series_data(data, sequence_length)\n",
    "x_data = x_data.reshape(len(x_data), -1)\n",
    "\n",
    "x_data.shape, y_data.shape"
   ]
  },
  {
   "cell_type": "code",
   "execution_count": 25,
   "id": "c6bc48e4-7ab8-48ed-a273-99b18579e45d",
   "metadata": {},
   "outputs": [
    {
     "data": {
      "text/plain": [
       "((16844, 7), (16844, 1), (7220, 7), (7220, 1))"
      ]
     },
     "execution_count": 25,
     "metadata": {},
     "output_type": "execute_result"
    }
   ],
   "source": [
    "x_train, x_test, y_train, y_test = train_test_split(x_data, y_data, test_size=0.3, shuffle=False) #시각화를 위해 shuffle=False 옵션 사용\n",
    "\n",
    "x_train.shape, y_train.shape, x_test.shape, y_test.shape"
   ]
  },
  {
   "cell_type": "code",
   "execution_count": 31,
   "id": "966fda9b-3e7e-4a55-b7ce-0301f456c48a",
   "metadata": {},
   "outputs": [
    {
     "name": "stdout",
     "output_type": "stream",
     "text": [
      "Model: \"model_2\"\n",
      "_________________________________________________________________\n",
      " Layer (type)                Output Shape              Param #   \n",
      "=================================================================\n",
      " input_3 (InputLayer)        [(None, 7)]               0         \n",
      "                                                                 \n",
      " dense_6 (Dense)             (None, 32)                256       \n",
      "                                                                 \n",
      " dense_7 (Dense)             (None, 32)                1056      \n",
      "                                                                 \n",
      " dense_8 (Dense)             (None, 1)                 33        \n",
      "                                                                 \n",
      "=================================================================\n",
      "Total params: 1,345\n",
      "Trainable params: 1,345\n",
      "Non-trainable params: 0\n",
      "_________________________________________________________________\n"
     ]
    }
   ],
   "source": [
    "##########모델 생성\n",
    "\n",
    "input = tf.keras.layers.Input(shape=(sequence_length,))\n",
    "net = tf.keras.layers.Dense(units=32, activation='relu')(input)\n",
    "net = tf.keras.layers.Dense(units=32, activation='relu')(net)\n",
    "net = tf.keras.layers.Dense(units=1)(net)\n",
    "model = tf.keras.models.Model(input, net)\n",
    "\n",
    "\n",
    "model.compile(loss='mean_squared_error', optimizer='adam')\n",
    "model.summary()"
   ]
  },
  {
   "cell_type": "code",
   "execution_count": 27,
   "id": "6e180a43-49cf-4037-8b72-b87aeee500e3",
   "metadata": {},
   "outputs": [
    {
     "name": "stdout",
     "output_type": "stream",
     "text": [
      "Epoch 1/50\n",
      "527/527 [==============================] - 2s 4ms/step - loss: 9.6637e-04 - val_loss: 6.2867e-04\n",
      "Epoch 2/50\n",
      "527/527 [==============================] - 2s 4ms/step - loss: 6.9508e-04 - val_loss: 6.0089e-04\n",
      "Epoch 3/50\n",
      "527/527 [==============================] - 2s 4ms/step - loss: 6.8885e-04 - val_loss: 7.0718e-04\n",
      "Epoch 4/50\n",
      "527/527 [==============================] - 2s 4ms/step - loss: 6.7189e-04 - val_loss: 6.5507e-04\n",
      "Epoch 5/50\n",
      "527/527 [==============================] - 2s 4ms/step - loss: 6.7290e-04 - val_loss: 5.9568e-04\n",
      "Epoch 6/50\n",
      "527/527 [==============================] - 2s 4ms/step - loss: 6.5968e-04 - val_loss: 7.7409e-04\n",
      "Epoch 7/50\n",
      "527/527 [==============================] - 2s 4ms/step - loss: 6.6980e-04 - val_loss: 6.0051e-04\n",
      "Epoch 8/50\n",
      "527/527 [==============================] - 2s 4ms/step - loss: 6.7555e-04 - val_loss: 5.8408e-04\n",
      "Epoch 9/50\n",
      "527/527 [==============================] - 2s 4ms/step - loss: 6.5723e-04 - val_loss: 6.5965e-04\n",
      "Epoch 10/50\n",
      "527/527 [==============================] - 2s 4ms/step - loss: 6.4297e-04 - val_loss: 5.8253e-04\n",
      "Epoch 11/50\n",
      "527/527 [==============================] - 2s 4ms/step - loss: 6.6598e-04 - val_loss: 5.8773e-04\n",
      "Epoch 12/50\n",
      "527/527 [==============================] - 2s 4ms/step - loss: 6.4287e-04 - val_loss: 5.9498e-04\n",
      "Epoch 13/50\n",
      "527/527 [==============================] - 2s 4ms/step - loss: 6.5906e-04 - val_loss: 5.8996e-04\n",
      "Epoch 14/50\n",
      "527/527 [==============================] - 2s 4ms/step - loss: 6.5486e-04 - val_loss: 5.8485e-04\n",
      "Epoch 15/50\n",
      "527/527 [==============================] - 2s 4ms/step - loss: 6.6051e-04 - val_loss: 6.1857e-04\n",
      "Epoch 16/50\n",
      "527/527 [==============================] - 2s 4ms/step - loss: 6.5216e-04 - val_loss: 5.8566e-04\n",
      "Epoch 17/50\n",
      "527/527 [==============================] - 2s 4ms/step - loss: 6.5001e-04 - val_loss: 5.8284e-04\n",
      "Epoch 18/50\n",
      "527/527 [==============================] - 2s 4ms/step - loss: 6.4169e-04 - val_loss: 6.5681e-04\n",
      "Epoch 19/50\n",
      "527/527 [==============================] - 2s 4ms/step - loss: 6.3881e-04 - val_loss: 6.6726e-04\n",
      "Epoch 20/50\n",
      "527/527 [==============================] - 2s 4ms/step - loss: 6.4521e-04 - val_loss: 5.8893e-04\n",
      "Epoch 21/50\n",
      "527/527 [==============================] - 2s 4ms/step - loss: 6.4553e-04 - val_loss: 5.9567e-04\n",
      "Epoch 22/50\n",
      "527/527 [==============================] - 2s 4ms/step - loss: 6.4280e-04 - val_loss: 5.9497e-04\n",
      "Epoch 23/50\n",
      "527/527 [==============================] - 2s 4ms/step - loss: 6.4584e-04 - val_loss: 5.9872e-04\n",
      "Epoch 24/50\n",
      "527/527 [==============================] - 2s 4ms/step - loss: 6.5577e-04 - val_loss: 5.7949e-04\n",
      "Epoch 25/50\n",
      "527/527 [==============================] - 2s 4ms/step - loss: 6.4961e-04 - val_loss: 6.0778e-04\n",
      "Epoch 26/50\n",
      "527/527 [==============================] - 2s 4ms/step - loss: 6.3676e-04 - val_loss: 5.8155e-04\n",
      "Epoch 27/50\n",
      "527/527 [==============================] - 2s 4ms/step - loss: 6.3243e-04 - val_loss: 5.9422e-04\n",
      "Epoch 28/50\n",
      "527/527 [==============================] - 2s 4ms/step - loss: 6.3419e-04 - val_loss: 6.2323e-04\n",
      "Epoch 29/50\n",
      "527/527 [==============================] - 2s 4ms/step - loss: 6.3952e-04 - val_loss: 5.8131e-04\n",
      "Epoch 30/50\n",
      "527/527 [==============================] - 2s 4ms/step - loss: 6.3350e-04 - val_loss: 5.8372e-04\n",
      "Epoch 31/50\n",
      "527/527 [==============================] - 2s 4ms/step - loss: 6.3178e-04 - val_loss: 6.2051e-04\n",
      "Epoch 32/50\n",
      "527/527 [==============================] - 2s 4ms/step - loss: 6.4205e-04 - val_loss: 6.0302e-04\n",
      "Epoch 33/50\n",
      "527/527 [==============================] - 2s 4ms/step - loss: 6.4622e-04 - val_loss: 6.6180e-04\n",
      "Epoch 34/50\n",
      "527/527 [==============================] - 2s 4ms/step - loss: 6.3247e-04 - val_loss: 5.8820e-04\n",
      "Epoch 35/50\n",
      "527/527 [==============================] - 2s 4ms/step - loss: 6.2985e-04 - val_loss: 5.8602e-04\n",
      "Epoch 36/50\n",
      "527/527 [==============================] - 2s 4ms/step - loss: 6.3182e-04 - val_loss: 5.8510e-04\n",
      "Epoch 37/50\n",
      "527/527 [==============================] - 2s 4ms/step - loss: 6.3594e-04 - val_loss: 6.4389e-04\n",
      "Epoch 38/50\n",
      "527/527 [==============================] - 2s 4ms/step - loss: 6.3087e-04 - val_loss: 5.9623e-04\n",
      "Epoch 39/50\n",
      "527/527 [==============================] - 2s 4ms/step - loss: 6.3088e-04 - val_loss: 6.2393e-04\n",
      "Epoch 40/50\n",
      "527/527 [==============================] - 2s 4ms/step - loss: 6.2925e-04 - val_loss: 5.9162e-04\n",
      "Epoch 41/50\n",
      "527/527 [==============================] - 2s 4ms/step - loss: 6.3750e-04 - val_loss: 6.0424e-04\n",
      "Epoch 42/50\n",
      "527/527 [==============================] - 2s 4ms/step - loss: 6.2856e-04 - val_loss: 5.8926e-04\n",
      "Epoch 43/50\n",
      "527/527 [==============================] - 2s 4ms/step - loss: 6.2970e-04 - val_loss: 5.9130e-04\n",
      "Epoch 44/50\n",
      "527/527 [==============================] - 2s 4ms/step - loss: 6.2239e-04 - val_loss: 5.8208e-04\n",
      "Epoch 45/50\n",
      "527/527 [==============================] - 2s 4ms/step - loss: 6.2778e-04 - val_loss: 9.1500e-04\n",
      "Epoch 46/50\n",
      "527/527 [==============================] - 2s 4ms/step - loss: 6.3276e-04 - val_loss: 5.8227e-04\n",
      "Epoch 47/50\n",
      "527/527 [==============================] - 2s 4ms/step - loss: 6.3685e-04 - val_loss: 5.8273e-04\n",
      "Epoch 48/50\n",
      "527/527 [==============================] - 2s 4ms/step - loss: 6.3247e-04 - val_loss: 5.8009e-04\n",
      "Epoch 49/50\n",
      "527/527 [==============================] - 2s 4ms/step - loss: 6.3153e-04 - val_loss: 6.0843e-04\n",
      "Epoch 50/50\n",
      "527/527 [==============================] - 2s 4ms/step - loss: 6.2897e-04 - val_loss: 6.5929e-04\n"
     ]
    },
    {
     "data": {
      "text/plain": [
       "<keras.callbacks.History at 0x2b998a89790>"
      ]
     },
     "execution_count": 27,
     "metadata": {},
     "output_type": "execute_result"
    }
   ],
   "source": [
    "model.fit(x_train, y_train, epochs=50, validation_data=(x_test, y_test)) "
   ]
  },
  {
   "cell_type": "code",
   "execution_count": 28,
   "id": "9a8257d9-57ac-4a1b-8c44-01fc72303464",
   "metadata": {},
   "outputs": [],
   "source": [
    "def plot(data, y_predict_train, y_predict_test):\n",
    "    plt.plot(scaler.inverse_transform(data)[:, [-1]].flatten(), label='실제 PM2.5')\n",
    "\n",
    "    y_predict_train = scaler.inverse_transform(y_predict_train)\n",
    "    y_predict_train_plot = np.empty_like(data[:, [0]])\n",
    "    y_predict_train_plot[:, :] = np.nan\n",
    "    y_predict_train_plot[sequence_length:len(y_predict_train) + sequence_length, :] = y_predict_train\n",
    "    plt.plot(y_predict_train_plot.flatten(), label='예측 PM2.5')\n",
    "\n",
    "    y_predict_test = scaler.inverse_transform(y_predict_test)\n",
    "    y_predict_test_plot = np.empty_like(data[:, [0]])\n",
    "    y_predict_test_plot[:, :] = np.nan\n",
    "    y_predict_test_plot[len(y_predict_train) + sequence_length:, :] = y_predict_test\n",
    "    plt.plot(y_predict_test_plot.flatten(), label='테스트 데이터 예측 PM2.5')\n",
    "\n",
    "    plt.legend()\n",
    "    plt.show()"
   ]
  },
  {
   "cell_type": "code",
   "execution_count": 29,
   "id": "20386fa0-e17c-4833-a50a-321c4a5c8bb4",
   "metadata": {},
   "outputs": [
    {
     "data": {
      "image/png": "[encoded data removed]",
      "text/plain": [
       "<Figure size 640x480 with 1 Axes>"
      ]
     },
     "metadata": {},
     "output_type": "display_data"
    }
   ],
   "source": [
    "y_predict_train = model.predict(x_train)\n",
    "y_predict_test = model.predict(x_test)\n",
    "plot(data, y_predict_train, y_predict_test)"
   ]
  },
  {
   "cell_type": "code",
   "execution_count": 30,
   "id": "d206e868-b16c-4790-8b02-361afd00981d",
   "metadata": {},
   "outputs": [
    {
     "ename": "ValueError",
     "evalue": "cannot reshape array of size 3 into shape (1,7)",
     "output_type": "error",
     "traceback": [
      "\u001b[1;31m------------------------------------------------------------------------\u001b[0m",
      "\u001b[1;31mValueError\u001b[0m                             Traceback (most recent call last)",
      "Cell \u001b[1;32mIn[30], line 6\u001b[0m\n\u001b[0;32m      4\u001b[0m x_test \u001b[38;5;241m=\u001b[39m x_test\u001b[38;5;241m.\u001b[39mreshape(\u001b[38;5;241m-\u001b[39m\u001b[38;5;241m1\u001b[39m, \u001b[38;5;241m1\u001b[39m)\n\u001b[0;32m      5\u001b[0m x_test \u001b[38;5;241m=\u001b[39m scaler\u001b[38;5;241m.\u001b[39mtransform(x_test)\n\u001b[1;32m----> 6\u001b[0m x_test \u001b[38;5;241m=\u001b[39m \u001b[43mx_test\u001b[49m\u001b[38;5;241;43m.\u001b[39;49m\u001b[43mreshape\u001b[49m\u001b[43m(\u001b[49m\u001b[38;5;241;43m1\u001b[39;49m\u001b[43m,\u001b[49m\u001b[43m \u001b[49m\u001b[43msequence_length\u001b[49m\u001b[43m)\u001b[49m\n\u001b[0;32m      8\u001b[0m y_predict \u001b[38;5;241m=\u001b[39m model\u001b[38;5;241m.\u001b[39mpredict(x_test)\n\u001b[0;32m     10\u001b[0m y_predict \u001b[38;5;241m=\u001b[39m scaler\u001b[38;5;241m.\u001b[39minverse_transform(y_predict)\n",
      "\u001b[1;31mValueError\u001b[0m: cannot reshape array of size 3 into shape (1,7)"
     ]
    }
   ],
   "source": [
    "x_test = np.array([\n",
    "        [44, 49, 50]\n",
    "])\n",
    "x_test = x_test.reshape(-1, 1)\n",
    "x_test = scaler.transform(x_test)\n",
    "x_test = x_test.reshape(1, sequence_length)\n",
    "\n",
    "y_predict = model.predict(x_test)\n",
    "\n",
    "y_predict = scaler.inverse_transform(y_predict)\n",
    "print(y_predict[0][0])"
   ]
  }
 ],
 "metadata": {
  "kernelspec": {
   "display_name": "Python 3 (ipykernel)",
   "language": "python",
   "name": "python3"
  },
  "language_info": {
   "codemirror_mode": {
    "name": "ipython",
    "version": 3
   },
   "file_extension": ".py",
   "mimetype": "text/x-python",
   "name": "python",
   "nbconvert_exporter": "python",
   "pygments_lexer": "ipython3",
   "version": "3.8.8"
  }
 },
 "nbformat": 4,
 "nbformat_minor": 5
}
