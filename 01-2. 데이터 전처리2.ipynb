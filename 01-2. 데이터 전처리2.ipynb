{
 "cells": [
  {
   "cell_type": "code",
   "execution_count": 44,
   "id": "d0541c0b-6c7a-4182-84df-de811d0b5b03",
   "metadata": {},
   "outputs": [],
   "source": [
    "import os\n",
    "import pandas as pd "
   ]
  },
  {
   "cell_type": "code",
   "execution_count": 45,
   "id": "791e19eb-8c25-40e9-910f-89ee28844b34",
   "metadata": {},
   "outputs": [
    {
     "data": {
      "text/plain": [
       "['2023년도 데이터.xlsx',\n",
       " '2023년.csv',\n",
       " '2022년도 데이터.xlsx',\n",
       " '2022년.csv',\n",
       " '2021년도 데이터.xlsx',\n",
       " '2021년.csv',\n",
       " 'total_df.pkl',\n",
       " 'total_df.csv']"
      ]
     },
     "execution_count": 45,
     "metadata": {},
     "output_type": "execute_result"
    }
   ],
   "source": [
    "data_dir = 'data'\n",
    "file_list = os.listdir(data_dir)\n",
    "file_list"
   ]
  },
  {
   "cell_type": "code",
   "execution_count": 46,
   "id": "ce2daa2a-e339-4bfa-9423-b77b5d474efe",
   "metadata": {},
   "outputs": [
    {
     "data": {
      "text/plain": [
       "['2023년도 데이터.xlsx', '2022년도 데이터.xlsx', '2021년도 데이터.xlsx']"
      ]
     },
     "execution_count": 46,
     "metadata": {},
     "output_type": "execute_result"
    }
   ],
   "source": [
    "ob_list = [file for file in file_list if file.endswith('xlsx')]\n",
    "ob_list"
   ]
  },
  {
   "cell_type": "code",
   "execution_count": 47,
   "id": "e7fe3dee-ac96-4bc6-bc4a-9a1c77c1524c",
   "metadata": {},
   "outputs": [
    {
     "data": {
      "text/plain": [
       "['2023년.csv', '2022년.csv', '2021년.csv', 'total_df.csv']"
      ]
     },
     "execution_count": 47,
     "metadata": {},
     "output_type": "execute_result"
    }
   ],
   "source": [
    "we_list = [file for file in file_list if file.endswith('csv')]\n",
    "we_list"
   ]
  },
  {
   "cell_type": "markdown",
   "id": "619556b8-be68-4f17-b832-6a368ecf2a19",
   "metadata": {},
   "source": [
    "### 측정소 파일 통합"
   ]
  },
  {
   "cell_type": "code",
   "execution_count": 48,
   "id": "b707377a-d040-4a83-b2c8-331e604818d9",
   "metadata": {},
   "outputs": [
    {
     "name": "stdout",
     "output_type": "stream",
     "text": [
      "CPU times: total: 1min 15s\n",
      "Wall time: 1min 15s\n"
     ]
    }
   ],
   "source": [
    "%%time\n",
    "ob_df_list = []\n",
    "for file in ob_list:\n",
    "    df = pd.read_excel(os.path.join(data_dir, file))\n",
    "    ob_df_list.append(df)"
   ]
  },
  {
   "cell_type": "code",
   "execution_count": 49,
   "id": "1c7bfee2-c224-4a3c-b5aa-1acd8b553e63",
   "metadata": {},
   "outputs": [],
   "source": [
    "ob_df = pd.concat(ob_df_list)\n",
    "ob_df.reset_index(drop = True, inplace = True)"
   ]
  },
  {
   "cell_type": "code",
   "execution_count": 50,
   "id": "9b34c6f0-a3db-4866-8862-174aa792b731",
   "metadata": {},
   "outputs": [
    {
     "name": "stdout",
     "output_type": "stream",
     "text": [
      "<class 'pandas.core.frame.DataFrame'>\n",
      "RangeIndex: 595516 entries, 0 to 595515\n",
      "Data columns (total 8 columns):\n",
      " #   Column  Non-Null Count   Dtype  \n",
      "---  ------  --------------   -----  \n",
      " 0   측정소코드   595516 non-null  int64  \n",
      " 1   측정소명    595516 non-null  object \n",
      " 2   일시      595516 non-null  object \n",
      " 3   PM2.5   583563 non-null  float64\n",
      " 4   풍향      594970 non-null  float64\n",
      " 5   풍속      594860 non-null  float64\n",
      " 6   온도      594371 non-null  float64\n",
      " 7   습도      594368 non-null  float64\n",
      "dtypes: float64(5), int64(1), object(2)\n",
      "memory usage: 36.3+ MB\n"
     ]
    }
   ],
   "source": [
    "ob_df.info()"
   ]
  },
  {
   "cell_type": "code",
   "execution_count": 51,
   "id": "0a593671-f49d-464c-9142-9e2f73e289b6",
   "metadata": {},
   "outputs": [
    {
     "data": {
      "text/html": [
       "<div>\n",
       "<style scoped>\n",
       "    .dataframe tbody tr th:only-of-type {\n",
       "        vertical-align: middle;\n",
       "    }\n",
       "\n",
       "    .dataframe tbody tr th {\n",
       "        vertical-align: top;\n",
       "    }\n",
       "\n",
       "    .dataframe thead th {\n",
       "        text-align: right;\n",
       "    }\n",
       "</style>\n",
       "<table border=\"1\" class=\"dataframe\">\n",
       "  <thead>\n",
       "    <tr style=\"text-align: right;\">\n",
       "      <th></th>\n",
       "      <th>측정소코드</th>\n",
       "      <th>측정소명</th>\n",
       "      <th>일시</th>\n",
       "      <th>PM2.5</th>\n",
       "      <th>풍향</th>\n",
       "      <th>풍속</th>\n",
       "      <th>온도</th>\n",
       "      <th>습도</th>\n",
       "    </tr>\n",
       "  </thead>\n",
       "  <tbody>\n",
       "    <tr>\n",
       "      <th>0</th>\n",
       "      <td>111261</td>\n",
       "      <td>강남구</td>\n",
       "      <td>2023/01/01 00:00:00</td>\n",
       "      <td>37.0</td>\n",
       "      <td>99.0</td>\n",
       "      <td>1.0</td>\n",
       "      <td>1.6</td>\n",
       "      <td>62.0</td>\n",
       "    </tr>\n",
       "    <tr>\n",
       "      <th>1</th>\n",
       "      <td>111261</td>\n",
       "      <td>강남구</td>\n",
       "      <td>2023/01/01 01:00:00</td>\n",
       "      <td>53.0</td>\n",
       "      <td>276.0</td>\n",
       "      <td>0.8</td>\n",
       "      <td>1.1</td>\n",
       "      <td>66.0</td>\n",
       "    </tr>\n",
       "    <tr>\n",
       "      <th>2</th>\n",
       "      <td>111261</td>\n",
       "      <td>강남구</td>\n",
       "      <td>2023/01/01 02:00:00</td>\n",
       "      <td>53.0</td>\n",
       "      <td>322.0</td>\n",
       "      <td>1.1</td>\n",
       "      <td>2.3</td>\n",
       "      <td>63.0</td>\n",
       "    </tr>\n",
       "    <tr>\n",
       "      <th>3</th>\n",
       "      <td>111261</td>\n",
       "      <td>강남구</td>\n",
       "      <td>2023/01/01 03:00:00</td>\n",
       "      <td>56.0</td>\n",
       "      <td>281.0</td>\n",
       "      <td>1.3</td>\n",
       "      <td>2.4</td>\n",
       "      <td>65.0</td>\n",
       "    </tr>\n",
       "    <tr>\n",
       "      <th>4</th>\n",
       "      <td>111261</td>\n",
       "      <td>강남구</td>\n",
       "      <td>2023/01/01 04:00:00</td>\n",
       "      <td>59.0</td>\n",
       "      <td>299.0</td>\n",
       "      <td>1.8</td>\n",
       "      <td>1.9</td>\n",
       "      <td>63.0</td>\n",
       "    </tr>\n",
       "  </tbody>\n",
       "</table>\n",
       "</div>"
      ],
      "text/plain": [
       "    측정소코드 측정소명                   일시  PM2.5     풍향   풍속   온도    습도\n",
       "0  111261  강남구  2023/01/01 00:00:00   37.0   99.0  1.0  1.6  62.0\n",
       "1  111261  강남구  2023/01/01 01:00:00   53.0  276.0  0.8  1.1  66.0\n",
       "2  111261  강남구  2023/01/01 02:00:00   53.0  322.0  1.1  2.3  63.0\n",
       "3  111261  강남구  2023/01/01 03:00:00   56.0  281.0  1.3  2.4  65.0\n",
       "4  111261  강남구  2023/01/01 04:00:00   59.0  299.0  1.8  1.9  63.0"
      ]
     },
     "execution_count": 51,
     "metadata": {},
     "output_type": "execute_result"
    }
   ],
   "source": [
    "ob_df.head()"
   ]
  },
  {
   "cell_type": "code",
   "execution_count": 52,
   "id": "4771cde8-1616-4bce-9371-db311cb26272",
   "metadata": {},
   "outputs": [
    {
     "data": {
      "text/html": [
       "<div>\n",
       "<style scoped>\n",
       "    .dataframe tbody tr th:only-of-type {\n",
       "        vertical-align: middle;\n",
       "    }\n",
       "\n",
       "    .dataframe tbody tr th {\n",
       "        vertical-align: top;\n",
       "    }\n",
       "\n",
       "    .dataframe thead th {\n",
       "        text-align: right;\n",
       "    }\n",
       "</style>\n",
       "<table border=\"1\" class=\"dataframe\">\n",
       "  <thead>\n",
       "    <tr style=\"text-align: right;\">\n",
       "      <th></th>\n",
       "      <th>측정소코드</th>\n",
       "      <th>측정소명</th>\n",
       "      <th>일시</th>\n",
       "      <th>PM2.5</th>\n",
       "      <th>풍향</th>\n",
       "      <th>풍속</th>\n",
       "      <th>온도</th>\n",
       "      <th>습도</th>\n",
       "    </tr>\n",
       "  </thead>\n",
       "  <tbody>\n",
       "    <tr>\n",
       "      <th>0</th>\n",
       "      <td>111261</td>\n",
       "      <td>강남구</td>\n",
       "      <td>2023-01-01 00:00:00</td>\n",
       "      <td>37.0</td>\n",
       "      <td>99.0</td>\n",
       "      <td>1.0</td>\n",
       "      <td>1.6</td>\n",
       "      <td>62.0</td>\n",
       "    </tr>\n",
       "    <tr>\n",
       "      <th>1</th>\n",
       "      <td>111261</td>\n",
       "      <td>강남구</td>\n",
       "      <td>2023-01-01 01:00:00</td>\n",
       "      <td>53.0</td>\n",
       "      <td>276.0</td>\n",
       "      <td>0.8</td>\n",
       "      <td>1.1</td>\n",
       "      <td>66.0</td>\n",
       "    </tr>\n",
       "    <tr>\n",
       "      <th>2</th>\n",
       "      <td>111261</td>\n",
       "      <td>강남구</td>\n",
       "      <td>2023-01-01 02:00:00</td>\n",
       "      <td>53.0</td>\n",
       "      <td>322.0</td>\n",
       "      <td>1.1</td>\n",
       "      <td>2.3</td>\n",
       "      <td>63.0</td>\n",
       "    </tr>\n",
       "    <tr>\n",
       "      <th>3</th>\n",
       "      <td>111261</td>\n",
       "      <td>강남구</td>\n",
       "      <td>2023-01-01 03:00:00</td>\n",
       "      <td>56.0</td>\n",
       "      <td>281.0</td>\n",
       "      <td>1.3</td>\n",
       "      <td>2.4</td>\n",
       "      <td>65.0</td>\n",
       "    </tr>\n",
       "    <tr>\n",
       "      <th>4</th>\n",
       "      <td>111261</td>\n",
       "      <td>강남구</td>\n",
       "      <td>2023-01-01 04:00:00</td>\n",
       "      <td>59.0</td>\n",
       "      <td>299.0</td>\n",
       "      <td>1.8</td>\n",
       "      <td>1.9</td>\n",
       "      <td>63.0</td>\n",
       "    </tr>\n",
       "  </tbody>\n",
       "</table>\n",
       "</div>"
      ],
      "text/plain": [
       "    측정소코드 측정소명                   일시  PM2.5     풍향   풍속   온도    습도\n",
       "0  111261  강남구  2023-01-01 00:00:00   37.0   99.0  1.0  1.6  62.0\n",
       "1  111261  강남구  2023-01-01 01:00:00   53.0  276.0  0.8  1.1  66.0\n",
       "2  111261  강남구  2023-01-01 02:00:00   53.0  322.0  1.1  2.3  63.0\n",
       "3  111261  강남구  2023-01-01 03:00:00   56.0  281.0  1.3  2.4  65.0\n",
       "4  111261  강남구  2023-01-01 04:00:00   59.0  299.0  1.8  1.9  63.0"
      ]
     },
     "execution_count": 52,
     "metadata": {},
     "output_type": "execute_result"
    }
   ],
   "source": [
    "ob_df.일시 = ob_df.일시.map(lambda st: st.replace('/','-'))\n",
    "ob_df.head()"
   ]
  },
  {
   "cell_type": "markdown",
   "id": "595edb5e-5a88-472d-8367-361ab9330647",
   "metadata": {},
   "source": [
    "### 측정소별 결측값 제거"
   ]
  },
  {
   "cell_type": "code",
   "execution_count": 53,
   "id": "9a78c1d6-1234-4e1b-a846-84a7ab769f96",
   "metadata": {},
   "outputs": [
    {
     "name": "stdout",
     "output_type": "stream",
     "text": [
      "<class 'pandas.core.frame.DataFrame'>\n",
      "RangeIndex: 595516 entries, 0 to 595515\n",
      "Data columns (total 8 columns):\n",
      " #   Column  Non-Null Count   Dtype  \n",
      "---  ------  --------------   -----  \n",
      " 0   측정소코드   595516 non-null  int64  \n",
      " 1   측정소명    595516 non-null  object \n",
      " 2   일시      595516 non-null  object \n",
      " 3   PM2.5   583563 non-null  float64\n",
      " 4   풍향      594970 non-null  float64\n",
      " 5   풍속      594860 non-null  float64\n",
      " 6   온도      594371 non-null  float64\n",
      " 7   습도      594368 non-null  float64\n",
      "dtypes: float64(5), int64(1), object(2)\n",
      "memory usage: 36.3+ MB\n"
     ]
    }
   ],
   "source": [
    "ob_df.info()"
   ]
  },
  {
   "cell_type": "code",
   "execution_count": 54,
   "id": "df1c60e7-1d5d-4759-8120-77acb30dfc64",
   "metadata": {},
   "outputs": [],
   "source": [
    "ob_df.rename(columns={'PM2.5':'PM'}, inplace = True)"
   ]
  },
  {
   "cell_type": "code",
   "execution_count": 67,
   "id": "afaf129a-9020-491a-a859-b6bddeb5edb2",
   "metadata": {},
   "outputs": [
    {
     "data": {
      "text/html": [
       "<div>\n",
       "<style scoped>\n",
       "    .dataframe tbody tr th:only-of-type {\n",
       "        vertical-align: middle;\n",
       "    }\n",
       "\n",
       "    .dataframe tbody tr th {\n",
       "        vertical-align: top;\n",
       "    }\n",
       "\n",
       "    .dataframe thead th {\n",
       "        text-align: right;\n",
       "    }\n",
       "</style>\n",
       "<table border=\"1\" class=\"dataframe\">\n",
       "  <thead>\n",
       "    <tr style=\"text-align: right;\">\n",
       "      <th></th>\n",
       "      <th>측정소명</th>\n",
       "      <th>일시</th>\n",
       "      <th>PM</th>\n",
       "    </tr>\n",
       "  </thead>\n",
       "  <tbody>\n",
       "    <tr>\n",
       "      <th>0</th>\n",
       "      <td>강남구</td>\n",
       "      <td>2023-01-01 00:00:00</td>\n",
       "      <td>37.0</td>\n",
       "    </tr>\n",
       "    <tr>\n",
       "      <th>1</th>\n",
       "      <td>강남구</td>\n",
       "      <td>2023-01-01 01:00:00</td>\n",
       "      <td>53.0</td>\n",
       "    </tr>\n",
       "    <tr>\n",
       "      <th>2</th>\n",
       "      <td>강남구</td>\n",
       "      <td>2023-01-01 02:00:00</td>\n",
       "      <td>53.0</td>\n",
       "    </tr>\n",
       "    <tr>\n",
       "      <th>3</th>\n",
       "      <td>강남구</td>\n",
       "      <td>2023-01-01 03:00:00</td>\n",
       "      <td>56.0</td>\n",
       "    </tr>\n",
       "    <tr>\n",
       "      <th>4</th>\n",
       "      <td>강남구</td>\n",
       "      <td>2023-01-01 04:00:00</td>\n",
       "      <td>59.0</td>\n",
       "    </tr>\n",
       "    <tr>\n",
       "      <th>...</th>\n",
       "      <td>...</td>\n",
       "      <td>...</td>\n",
       "      <td>...</td>\n",
       "    </tr>\n",
       "    <tr>\n",
       "      <th>595511</th>\n",
       "      <td>중랑구</td>\n",
       "      <td>2021-12-31 19:00:00</td>\n",
       "      <td>7.0</td>\n",
       "    </tr>\n",
       "    <tr>\n",
       "      <th>595512</th>\n",
       "      <td>중랑구</td>\n",
       "      <td>2021-12-31 20:00:00</td>\n",
       "      <td>8.0</td>\n",
       "    </tr>\n",
       "    <tr>\n",
       "      <th>595513</th>\n",
       "      <td>중랑구</td>\n",
       "      <td>2021-12-31 21:00:00</td>\n",
       "      <td>7.0</td>\n",
       "    </tr>\n",
       "    <tr>\n",
       "      <th>595514</th>\n",
       "      <td>중랑구</td>\n",
       "      <td>2021-12-31 22:00:00</td>\n",
       "      <td>7.0</td>\n",
       "    </tr>\n",
       "    <tr>\n",
       "      <th>595515</th>\n",
       "      <td>중랑구</td>\n",
       "      <td>2021-12-31 23:00:00</td>\n",
       "      <td>7.0</td>\n",
       "    </tr>\n",
       "  </tbody>\n",
       "</table>\n",
       "<p>595516 rows × 3 columns</p>\n",
       "</div>"
      ],
      "text/plain": [
       "       측정소명                   일시    PM\n",
       "0       강남구  2023-01-01 00:00:00  37.0\n",
       "1       강남구  2023-01-01 01:00:00  53.0\n",
       "2       강남구  2023-01-01 02:00:00  53.0\n",
       "3       강남구  2023-01-01 03:00:00  56.0\n",
       "4       강남구  2023-01-01 04:00:00  59.0\n",
       "...     ...                  ...   ...\n",
       "595511  중랑구  2021-12-31 19:00:00   7.0\n",
       "595512  중랑구  2021-12-31 20:00:00   8.0\n",
       "595513  중랑구  2021-12-31 21:00:00   7.0\n",
       "595514  중랑구  2021-12-31 22:00:00   7.0\n",
       "595515  중랑구  2021-12-31 23:00:00   7.0\n",
       "\n",
       "[595516 rows x 3 columns]"
      ]
     },
     "execution_count": 67,
     "metadata": {},
     "output_type": "execute_result"
    }
   ],
   "source": [
    "ob_df = ob_df.loc[:, ['측정소명', '일시', 'PM']]\n",
    "ob_df"
   ]
  },
  {
   "cell_type": "code",
   "execution_count": 77,
   "id": "b78c13e7-c8dc-42c1-9c87-624ed87a9d5d",
   "metadata": {},
   "outputs": [
    {
     "data": {
      "text/plain": [
       "615       2023-01-26 16:00:00\n",
       "947       2023-02-09 13:00:00\n",
       "1089      2023-02-15 11:00:00\n",
       "2146      2023-03-31 13:00:00\n",
       "2190      2023-04-02 09:00:00\n",
       "                 ...         \n",
       "595068    2021-12-13 04:00:00\n",
       "595069    2021-12-13 05:00:00\n",
       "595070    2021-12-13 06:00:00\n",
       "595071    2021-12-13 07:00:00\n",
       "595072    2021-12-13 08:00:00\n",
       "Name: 일시, Length: 11953, dtype: object"
      ]
     },
     "execution_count": 77,
     "metadata": {},
     "output_type": "execute_result"
    }
   ],
   "source": [
    "null_dt =  ob_df[ob_df.PM.isnull()]['일시']\n",
    "null_dt"
   ]
  },
  {
   "cell_type": "code",
   "execution_count": 70,
   "id": "5325485d-f3ff-402d-8ad0-b524c630fdad",
   "metadata": {},
   "outputs": [
    {
     "data": {
      "text/html": [
       "<div>\n",
       "<style scoped>\n",
       "    .dataframe tbody tr th:only-of-type {\n",
       "        vertical-align: middle;\n",
       "    }\n",
       "\n",
       "    .dataframe tbody tr th {\n",
       "        vertical-align: top;\n",
       "    }\n",
       "\n",
       "    .dataframe thead th {\n",
       "        text-align: right;\n",
       "    }\n",
       "</style>\n",
       "<table border=\"1\" class=\"dataframe\">\n",
       "  <thead>\n",
       "    <tr style=\"text-align: right;\">\n",
       "      <th></th>\n",
       "      <th>측정소명</th>\n",
       "      <th>일시</th>\n",
       "      <th>PM</th>\n",
       "    </tr>\n",
       "  </thead>\n",
       "  <tbody>\n",
       "    <tr>\n",
       "      <th>0</th>\n",
       "      <td>강남구</td>\n",
       "      <td>2023-01-01 00:00:00</td>\n",
       "      <td>37.0</td>\n",
       "    </tr>\n",
       "    <tr>\n",
       "      <th>1</th>\n",
       "      <td>강남구</td>\n",
       "      <td>2023-01-01 01:00:00</td>\n",
       "      <td>53.0</td>\n",
       "    </tr>\n",
       "    <tr>\n",
       "      <th>2</th>\n",
       "      <td>강남구</td>\n",
       "      <td>2023-01-01 02:00:00</td>\n",
       "      <td>53.0</td>\n",
       "    </tr>\n",
       "    <tr>\n",
       "      <th>3</th>\n",
       "      <td>강남구</td>\n",
       "      <td>2023-01-01 03:00:00</td>\n",
       "      <td>56.0</td>\n",
       "    </tr>\n",
       "    <tr>\n",
       "      <th>4</th>\n",
       "      <td>강남구</td>\n",
       "      <td>2023-01-01 04:00:00</td>\n",
       "      <td>59.0</td>\n",
       "    </tr>\n",
       "    <tr>\n",
       "      <th>...</th>\n",
       "      <td>...</td>\n",
       "      <td>...</td>\n",
       "      <td>...</td>\n",
       "    </tr>\n",
       "    <tr>\n",
       "      <th>595507</th>\n",
       "      <td>중랑구</td>\n",
       "      <td>2021-12-31 15:00:00</td>\n",
       "      <td>5.0</td>\n",
       "    </tr>\n",
       "    <tr>\n",
       "      <th>595511</th>\n",
       "      <td>중랑구</td>\n",
       "      <td>2021-12-31 19:00:00</td>\n",
       "      <td>7.0</td>\n",
       "    </tr>\n",
       "    <tr>\n",
       "      <th>595512</th>\n",
       "      <td>중랑구</td>\n",
       "      <td>2021-12-31 20:00:00</td>\n",
       "      <td>8.0</td>\n",
       "    </tr>\n",
       "    <tr>\n",
       "      <th>595514</th>\n",
       "      <td>중랑구</td>\n",
       "      <td>2021-12-31 22:00:00</td>\n",
       "      <td>7.0</td>\n",
       "    </tr>\n",
       "    <tr>\n",
       "      <th>595515</th>\n",
       "      <td>중랑구</td>\n",
       "      <td>2021-12-31 23:00:00</td>\n",
       "      <td>7.0</td>\n",
       "    </tr>\n",
       "  </tbody>\n",
       "</table>\n",
       "<p>421048 rows × 3 columns</p>\n",
       "</div>"
      ],
      "text/plain": [
       "       측정소명                   일시    PM\n",
       "0       강남구  2023-01-01 00:00:00  37.0\n",
       "1       강남구  2023-01-01 01:00:00  53.0\n",
       "2       강남구  2023-01-01 02:00:00  53.0\n",
       "3       강남구  2023-01-01 03:00:00  56.0\n",
       "4       강남구  2023-01-01 04:00:00  59.0\n",
       "...     ...                  ...   ...\n",
       "595507  중랑구  2021-12-31 15:00:00   5.0\n",
       "595511  중랑구  2021-12-31 19:00:00   7.0\n",
       "595512  중랑구  2021-12-31 20:00:00   8.0\n",
       "595514  중랑구  2021-12-31 22:00:00   7.0\n",
       "595515  중랑구  2021-12-31 23:00:00   7.0\n",
       "\n",
       "[421048 rows x 3 columns]"
      ]
     },
     "execution_count": 70,
     "metadata": {},
     "output_type": "execute_result"
    }
   ],
   "source": [
    "total_df = ob_df[~ob_df.일시.isin(null_dt)]\n",
    "total_df"
   ]
  },
  {
   "cell_type": "code",
   "execution_count": 71,
   "id": "85acba16-5fff-424a-bc9a-361d9157cee5",
   "metadata": {},
   "outputs": [],
   "source": [
    "total_df.to_pickle('./data/total_df.pkl')"
   ]
  },
  {
   "cell_type": "code",
   "execution_count": null,
   "id": "c5637dfd-9abf-4ba3-b7ec-d4959432dc85",
   "metadata": {},
   "outputs": [],
   "source": [
    "total_df[(total_df.측정소명 == '강남구') & (total_df.일시 > '2023-09-29')]"
   ]
  },
  {
   "cell_type": "code",
   "execution_count": 80,
   "id": "21f949d1-60c1-482f-a40a-aa3c92cf720b",
   "metadata": {},
   "outputs": [
    {
     "data": {
      "text/plain": [
       "0         False\n",
       "1         False\n",
       "2         False\n",
       "3         False\n",
       "4         False\n",
       "          ...  \n",
       "595511    False\n",
       "595512    False\n",
       "595513     True\n",
       "595514    False\n",
       "595515    False\n",
       "Name: 일시, Length: 595516, dtype: bool"
      ]
     },
     "execution_count": 80,
     "metadata": {},
     "output_type": "execute_result"
    }
   ],
   "source": [
    "ob_df.일시.isin(null_dt)"
   ]
  },
  {
   "cell_type": "code",
   "execution_count": null,
   "id": "7cd62ccb-90b0-471e-8db9-05f48906f74b",
   "metadata": {},
   "outputs": [],
   "source": []
  }
 ],
 "metadata": {
  "kernelspec": {
   "display_name": "Python 3 (ipykernel)",
   "language": "python",
   "name": "python3"
  },
  "language_info": {
   "codemirror_mode": {
    "name": "ipython",
    "version": 3
   },
   "file_extension": ".py",
   "mimetype": "text/x-python",
   "name": "python",
   "nbconvert_exporter": "python",
   "pygments_lexer": "ipython3",
   "version": "3.8.8"
  }
 },
 "nbformat": 4,
 "nbformat_minor": 5
}
